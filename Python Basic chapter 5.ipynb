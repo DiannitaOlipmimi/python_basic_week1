{
 "metadata": {
  "language_info": {
   "codemirror_mode": {
    "name": "ipython",
    "version": 3
   },
   "file_extension": ".py",
   "mimetype": "text/x-python",
   "name": "python",
   "nbconvert_exporter": "python",
   "pygments_lexer": "ipython3",
   "version": "3.8.2"
  },
  "orig_nbformat": 2,
  "kernelspec": {
   "name": "python382jvsc74a57bd0c33435f55a7315acd731686d420f686eddd34b7637d6c6be840a5486afddfda9",
   "display_name": "Python 3.8.2 64-bit"
  },
  "metadata": {
   "interpreter": {
    "hash": "c33435f55a7315acd731686d420f686eddd34b7637d6c6be840a5486afddfda9"
   }
  }
 },
 "nbformat": 4,
 "nbformat_minor": 2,
 "cells": [
  {
   "source": [
    "## 5.1. Intro Turtles\n",
    "---\n",
    "salah satu modul yang paling banyak digunakan adalah **turtle**. modul ini dapat digunakan untuk menggambar atau biasa disebut turtle graphics\n",
    "\n",
    "**Learning goals**\n",
    "- memahami perulangan \n",
    "- memahami pattern dalam problem solving\n",
    "- dapat membedakan instances, attributes, methods\n",
    "\n",
    "**Tujuan**\n",
    "- multi-line program menggunakan turtle framework\n",
    "- menggunakan loop dan turtle untuk menggambar bentuk geometrik"
   ],
   "cell_type": "markdown",
   "metadata": {}
  },
  {
   "source": [
    "## 5.2. Turtle\n",
    "---\n",
    "modul Turtle meurupakan modul yang dapat digunakan untuk menggambar. dalam modul ini terdapat type turtle dan type screen."
   ],
   "cell_type": "markdown",
   "metadata": {}
  },
  {
   "cell_type": "code",
   "execution_count": 9,
   "metadata": {},
   "outputs": [],
   "source": [
    "import turtle             #import library\n",
    "wn = turtle.Screen()      #membuatgraphics window\n",
    "alex = turtle.Turtle()    #memberi nama turtle\n",
    "\n",
    "alex.forward(150)         #maju 150 px\n",
    "alex.left(90)             #berbelok kiri 90 derajat\n",
    "alex.forward(75)          "
   ]
  },
  {
   "cell_type": "code",
   "execution_count": 10,
   "metadata": {},
   "outputs": [],
   "source": [
    "import turtle \n",
    "window = turtle.Screen()\n",
    "ella = turtle.Turtle()\n",
    "\n",
    "ella.right(90)\n",
    "ella.forward(150)\n",
    "ella.left(90)\n",
    "ella.forward(75)"
   ]
  },
  {
   "cell_type": "code",
   "execution_count": 11,
   "metadata": {},
   "outputs": [],
   "source": [
    "import turtle \n",
    "window = turtle.Screen()\n",
    "maria = turtle.Turtle()\n",
    "\n",
    "maria.right(45)\n",
    "maria.forward(75)\n",
    "maria.left(90)\n",
    "maria.forward(150)"
   ]
  },
  {
   "cell_type": "code",
   "execution_count": 12,
   "metadata": {},
   "outputs": [],
   "source": [
    "import turtle \n",
    "window = turtle.Screen()\n",
    "jamal = turtle.Turtle()\n",
    "\n",
    "jamal.left(180)\n",
    "jamal.forward(75)"
   ]
  },
  {
   "cell_type": "code",
   "execution_count": null,
   "metadata": {},
   "outputs": [],
   "source": [
    "import turtle\n",
    "\n",
    "wn = turtle.Screen()\n",
    "wn.bgcolor(\"lightgreen\")        # set the window background color\n",
    "\n",
    "tess = turtle.Turtle()\n",
    "tess.color(\"blue\")              # make tess blue\n",
    "tess.pensize(3)                 # set the width of her pen\n",
    "\n",
    "tess.forward(50)\n",
    "tess.left(120)\n",
    "tess.forward(50)\n",
    "\n",
    "wn.exitonclick()                # wait for a user click on the canvas"
   ]
  },
  {
   "source": [
    "## 5.3. instances: A herd of Turtles"
   ],
   "cell_type": "markdown",
   "metadata": {}
  },
  {
   "cell_type": "code",
   "execution_count": 1,
   "metadata": {},
   "outputs": [],
   "source": [
    "import turtle\n",
    "wn = turtle.Screen()             # Set up the window and its attributes\n",
    "wn.bgcolor(\"lightgreen\")\n",
    "\n",
    "\n",
    "tess = turtle.Turtle()           # create tess and set his pen width\n",
    "tess.pensize(5)\n",
    "\n",
    "alex = turtle.Turtle()           # create alex\n",
    "alex.color(\"hotpink\")            # set his color\n",
    "\n",
    "tess.forward(80)                 # Let tess draw an equilateral triangle\n",
    "tess.left(120)\n",
    "tess.forward(80)\n",
    "tess.left(120)\n",
    "tess.forward(80)\n",
    "tess.left(120)                   # complete the triangle\n",
    "\n",
    "tess.right(180)                  # turn tess around\n",
    "tess.forward(80)                 # move her away from the origin so we can see alex\n",
    "\n",
    "alex.forward(50)                 # make alex draw a square\n",
    "alex.left(90)\n",
    "alex.forward(50)\n",
    "alex.left(90)\n",
    "alex.forward(50)\n",
    "alex.left(90)\n",
    "alex.forward(50)\n",
    "alex.left(90)\n",
    "\n",
    "wn.exitonclick()"
   ]
  },
  {
   "source": [
    "---\n",
    "turtle-3-2: The following program has one turtle, \"jamal\", draw a capital L in blue and then another, \"tina\", draw a line to the west in orange as shown to the left, image of a capital letter L in blue color drawn by one Turtle and a line to the west in orange color drawn by another Turtle. Both the Turtles have same starting point.. The program should do all set-up, have \"jamal\" draw the L, and then have \"tina\" draw the line. Finally, it should set the window to close when the user clicks in it.\n",
    "\n",
    "Drag the blocks of statements from the left column to the right column and put them in the right order. Then click on Check Me to see if you are right. You will be told if any of the lines are in the wrong order."
   ],
   "cell_type": "markdown",
   "metadata": {}
  },
  {
   "cell_type": "code",
   "execution_count": null,
   "metadata": {},
   "outputs": [],
   "source": [
    "turtle.reset()"
   ]
  },
  {
   "cell_type": "code",
   "execution_count": 6,
   "metadata": {},
   "outputs": [],
   "source": [
    "import turtle\n",
    "wn = turtle.Screen()\n",
    "\n",
    "jamal = turtle.Turtle()\n",
    "jamal.color(\"blue\")\n",
    "jamal.pensize(10)\n",
    "\n",
    "jamal.left(90)\n",
    "jamal.forward(150)\n",
    "\n",
    "tina = turtle.Turtle()\n",
    "tina.pensize(10)\n",
    "tina.color(\"orange\")\n",
    "tina.forward(150)\n",
    "\n",
    "wn.exitonclick()"
   ]
  },
  {
   "cell_type": "code",
   "execution_count": 8,
   "metadata": {},
   "outputs": [],
   "source": [
    "turtle.reset()"
   ]
  },
  {
   "source": [
    "## 5.4. Object Oriented Concept\n",
    "---\n"
   ],
   "cell_type": "markdown",
   "metadata": {}
  }
 ]
}