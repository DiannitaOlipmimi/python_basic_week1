{
 "metadata": {
  "language_info": {
   "codemirror_mode": {
    "name": "ipython",
    "version": 3
   },
   "file_extension": ".py",
   "mimetype": "text/x-python",
   "name": "python",
   "nbconvert_exporter": "python",
   "pygments_lexer": "ipython3",
   "version": 3
  },
  "orig_nbformat": 2
 },
 "nbformat": 4,
 "nbformat_minor": 2,
 "cells": [
  {
   "source": [
    "## 5.1. Intro Turtles\n",
    "---\n",
    "salah satu modul yang paling banyak digunakan adalah **turtle**. modul ini dapat digunakan untuk menggambar atau biasa disebut turtle graphics\n",
    "\n",
    "**Learning goals**\n",
    "- memahami perulangan \n",
    "- memahami pattern dalam problem solving\n",
    "- dapat membedakan instances, attributes, methods\n",
    "\n",
    "**Tujuan**\n",
    "- multi-line program menggunakan turtle framework\n",
    "- menggunakan loop dan turtle untuk menggambar bentuk geometrik"
   ],
   "cell_type": "markdown",
   "metadata": {}
  },
  {
   "cell_type": "code",
   "execution_count": null,
   "metadata": {},
   "outputs": [],
   "source": []
  },
  {
   "cell_type": "code",
   "execution_count": null,
   "metadata": {},
   "outputs": [],
   "source": []
  },
  {
   "cell_type": "code",
   "execution_count": null,
   "metadata": {},
   "outputs": [],
   "source": []
  }
 ]
}