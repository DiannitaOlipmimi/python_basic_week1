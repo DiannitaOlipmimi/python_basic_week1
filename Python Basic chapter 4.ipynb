{
 "metadata": {
  "language_info": {
   "codemirror_mode": {
    "name": "ipython",
    "version": 3
   },
   "file_extension": ".py",
   "mimetype": "text/x-python",
   "name": "python",
   "nbconvert_exporter": "python",
   "pygments_lexer": "ipython3",
   "version": "3.8.2"
  },
  "orig_nbformat": 2,
  "kernelspec": {
   "name": "python382jvsc74a57bd0c33435f55a7315acd731686d420f686eddd34b7637d6c6be840a5486afddfda9",
   "display_name": "Python 3.8.2 64-bit"
  },
  "metadata": {
   "interpreter": {
    "hash": "c33435f55a7315acd731686d420f686eddd34b7637d6c6be840a5486afddfda9"
   }
  }
 },
 "nbformat": 4,
 "nbformat_minor": 2,
 "cells": [
  {
   "source": [
    "## 4.1. Intro to Python Modules\n",
    "---\n",
    "** Learning goals **\n",
    "- memahami penggunaan Python dengan Module\n",
    "\n",
    "** Tujuan **\n",
    "- import Modules\n",
    "- import function dari Modules\n",
    "- import Module dan memberi alias"
   ],
   "cell_type": "markdown",
   "metadata": {}
  },
  {
   "source": [
    "## 4.2. Modules\n",
    "---\n",
    "Modules atau modul merupakan file yang berisi definisi dan statment yang dapat digunakan dalam menjalankan program. didalam modul terdapat function yang memiliki **namespace**.\n",
    "\n",
    "untuk meng-import modul dapat dilakukan dengan perintah **import** diikuti dengan nama modul (case-sensitive)\n",
    "\n",
    "\n"
   ],
   "cell_type": "markdown",
   "metadata": {}
  },
  {
   "source": [
    "## 4.3. The **Random** module\n",
    "---\n",
    "modul ini dapat digunakan untuk membuat angka random, contoh penggunaannya,\n",
    "- permainan dadu, pick number, flip coin\n",
    "- shuffle\n",
    "- simulate computerized model"
   ],
   "cell_type": "markdown",
   "metadata": {}
  },
  {
   "cell_type": "code",
   "execution_count": 2,
   "metadata": {},
   "outputs": [
    {
     "output_type": "stream",
     "name": "stdout",
     "text": [
      "0.02784393888103842\n2 <class 'int'>\n"
     ]
    }
   ],
   "source": [
    "import random \n",
    "\n",
    "prob = random.random() #import function random \n",
    "print(prob)\n",
    "\n",
    "diceThrow = random.randrange(1,7) #import function random dalam range 1:6\n",
    "print(diceThrow, type(diceThrow))"
   ]
  },
  {
   "cell_type": "code",
   "execution_count": 4,
   "metadata": {},
   "outputs": [
    {
     "output_type": "stream",
     "name": "stdout",
     "text": [
      "1.0608237644795593\n"
     ]
    }
   ],
   "source": [
    "#perhitungan sedehana dengan random\n",
    "import random\n",
    "\n",
    "prob = random.random()\n",
    "result = prob * 5\n",
    "print(result)"
   ]
  },
  {
   "source": [
    "---\n",
    "The correct code to generate a random number between 1 and 100 (inclusive) is:"
   ],
   "cell_type": "markdown",
   "metadata": {}
  },
  {
   "cell_type": "code",
   "execution_count": 5,
   "metadata": {},
   "outputs": [],
   "source": [
    "prob = random.randrange(1, 101)"
   ]
  },
  {
   "source": [
    "## Exercise Chapter 4\n",
    "---\n",
    "Use a for statement to print 10 random numbers."
   ],
   "cell_type": "markdown",
   "metadata": {}
  },
  {
   "cell_type": "code",
   "execution_count": 6,
   "metadata": {},
   "outputs": [
    {
     "output_type": "stream",
     "name": "stdout",
     "text": [
      "0.1792499044065583\n0.7070015032129547\n0.60592441766655\n0.6431310737526953\n0.2219831707865686\n0.13370839473055296\n0.8709251202120886\n0.39812915962082196\n0.9656630114869573\n0.9997904474669363\n"
     ]
    }
   ],
   "source": [
    "import random\n",
    "\n",
    "banyak = 10\n",
    "\n",
    "for i in range(banyak) :\n",
    "    rand = random.random()\n",
    "    print(rand)"
   ]
  },
  {
   "source": [
    "---\n",
    "Repeat the above exercise but this time print 10 random numbers between 25 and 35."
   ],
   "cell_type": "markdown",
   "metadata": {}
  },
  {
   "cell_type": "code",
   "execution_count": 7,
   "metadata": {},
   "outputs": [
    {
     "output_type": "stream",
     "name": "stdout",
     "text": [
      "35\n35\n26\n33\n35\n30\n34\n28\n29\n30\n"
     ]
    }
   ],
   "source": [
    "import random\n",
    "\n",
    "banyak = 10\n",
    "\n",
    "for i in range(banyak) :\n",
    "    rand = random.randrange(26,36)\n",
    "    print(rand)"
   ]
  },
  {
   "cell_type": "code",
   "execution_count": null,
   "metadata": {},
   "outputs": [],
   "source": []
  }
 ]
}